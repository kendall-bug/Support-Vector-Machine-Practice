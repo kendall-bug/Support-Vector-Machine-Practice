{
 "cells": [
  {
   "cell_type": "markdown",
   "metadata": {},
   "source": [
    "# Cats: One-Class Anomaly Detection Using Support Vector Machines\n",
    "Is your cat super chunky with a big heart? See for yourself by comparing your pet's body weight and heart weight to 144 other domestic cats.\n",
    "\n",
    "This data comes from the \"cats\" dataset that is available inside of R's MASS library. Data were downloaded from R and imported into Python by CSV for anaylsis. \n",
    "\n",
    "The cats dataset contains 3 columns: \n",
    " - Sex: Denoted \"M\" for male and \"F\" for female.\n",
    " - Bwt: The cat's body weight in kilograms, rounded to 1 decimal place.\n",
    " - Hwt: The cat's heart weight in grams in kilograms, rounded to 1 decimal place.\n"
   ]
  },
  {
   "cell_type": "code",
   "execution_count": 239,
   "metadata": {},
   "outputs": [
    {
     "data": {
      "text/html": [
       "<div>\n",
       "<style scoped>\n",
       "    .dataframe tbody tr th:only-of-type {\n",
       "        vertical-align: middle;\n",
       "    }\n",
       "\n",
       "    .dataframe tbody tr th {\n",
       "        vertical-align: top;\n",
       "    }\n",
       "\n",
       "    .dataframe thead th {\n",
       "        text-align: right;\n",
       "    }\n",
       "</style>\n",
       "<table border=\"1\" class=\"dataframe\">\n",
       "  <thead>\n",
       "    <tr style=\"text-align: right;\">\n",
       "      <th></th>\n",
       "      <th>Sex</th>\n",
       "      <th>Bwt</th>\n",
       "      <th>Hwt</th>\n",
       "    </tr>\n",
       "  </thead>\n",
       "  <tbody>\n",
       "    <tr>\n",
       "      <th>0</th>\n",
       "      <td>F</td>\n",
       "      <td>2.0</td>\n",
       "      <td>7.0</td>\n",
       "    </tr>\n",
       "    <tr>\n",
       "      <th>1</th>\n",
       "      <td>F</td>\n",
       "      <td>2.0</td>\n",
       "      <td>7.4</td>\n",
       "    </tr>\n",
       "    <tr>\n",
       "      <th>2</th>\n",
       "      <td>F</td>\n",
       "      <td>2.0</td>\n",
       "      <td>9.5</td>\n",
       "    </tr>\n",
       "    <tr>\n",
       "      <th>3</th>\n",
       "      <td>F</td>\n",
       "      <td>2.1</td>\n",
       "      <td>7.2</td>\n",
       "    </tr>\n",
       "    <tr>\n",
       "      <th>4</th>\n",
       "      <td>F</td>\n",
       "      <td>2.1</td>\n",
       "      <td>7.3</td>\n",
       "    </tr>\n",
       "    <tr>\n",
       "      <th>5</th>\n",
       "      <td>F</td>\n",
       "      <td>2.1</td>\n",
       "      <td>7.6</td>\n",
       "    </tr>\n",
       "    <tr>\n",
       "      <th>6</th>\n",
       "      <td>F</td>\n",
       "      <td>2.1</td>\n",
       "      <td>8.1</td>\n",
       "    </tr>\n",
       "    <tr>\n",
       "      <th>7</th>\n",
       "      <td>F</td>\n",
       "      <td>2.1</td>\n",
       "      <td>8.2</td>\n",
       "    </tr>\n",
       "    <tr>\n",
       "      <th>8</th>\n",
       "      <td>F</td>\n",
       "      <td>2.1</td>\n",
       "      <td>8.3</td>\n",
       "    </tr>\n",
       "    <tr>\n",
       "      <th>9</th>\n",
       "      <td>F</td>\n",
       "      <td>2.1</td>\n",
       "      <td>8.5</td>\n",
       "    </tr>\n",
       "  </tbody>\n",
       "</table>\n",
       "</div>"
      ],
      "text/plain": [
       "  Sex  Bwt  Hwt\n",
       "0   F  2.0  7.0\n",
       "1   F  2.0  7.4\n",
       "2   F  2.0  9.5\n",
       "3   F  2.1  7.2\n",
       "4   F  2.1  7.3\n",
       "5   F  2.1  7.6\n",
       "6   F  2.1  8.1\n",
       "7   F  2.1  8.2\n",
       "8   F  2.1  8.3\n",
       "9   F  2.1  8.5"
      ]
     },
     "execution_count": 239,
     "metadata": {},
     "output_type": "execute_result"
    }
   ],
   "source": [
    "# Import packages\n",
    "import os\n",
    "os.getcwd()\n",
    "base = 'C:\\\\Users\\\\kxr6264'\n",
    "os.chdir(base)\n",
    "\n",
    "import pandas as pd\n",
    "from sklearn.svm import OneClassSVM\n",
    "import seaborn as sns\n",
    "import numpy as np\n",
    "\n",
    "\n",
    "# Import data \n",
    "df = pd.read_csv(base + '\\\\cats.csv') # imports data as a data frame\n",
    "df.head(10) # preview first 10 rows"
   ]
  },
  {
   "cell_type": "markdown",
   "metadata": {},
   "source": [
    "# Data Cleansing and Exploratory Data Analysis\n"
   ]
  },
  {
   "cell_type": "code",
   "execution_count": 240,
   "metadata": {},
   "outputs": [],
   "source": [
    "# Print data types\n",
    "# print(df.dtypes)\n",
    "\n",
    "# Convert kg to g so weight measurements are in the same units. 1 kg = 1,000 g\n",
    "df['Bwt_g'] = df['Bwt'] * 1000\n",
    "\n",
    "# Rename column names and drop old columns to avoid redundancy\n",
    "df['BodyWeight_g'] = df['Bwt_g'] # add\n",
    "df['HeartWeight_g'] = df['Hwt'] #add\n",
    "\n",
    "df = df.drop(columns=['Bwt']) # drop\n",
    "df = df.drop(columns=['Bwt_g']) # drop\n",
    "df = df.drop(columns=['Hwt']) #drop"
   ]
  },
  {
   "cell_type": "code",
   "execution_count": 241,
   "metadata": {},
   "outputs": [
    {
     "data": {
      "text/html": [
       "<div>\n",
       "<style scoped>\n",
       "    .dataframe tbody tr th:only-of-type {\n",
       "        vertical-align: middle;\n",
       "    }\n",
       "\n",
       "    .dataframe tbody tr th {\n",
       "        vertical-align: top;\n",
       "    }\n",
       "\n",
       "    .dataframe thead th {\n",
       "        text-align: right;\n",
       "    }\n",
       "</style>\n",
       "<table border=\"1\" class=\"dataframe\">\n",
       "  <thead>\n",
       "    <tr style=\"text-align: right;\">\n",
       "      <th></th>\n",
       "      <th>Sex</th>\n",
       "      <th>BodyWeight_g</th>\n",
       "      <th>HeartWeight_g</th>\n",
       "    </tr>\n",
       "  </thead>\n",
       "  <tbody>\n",
       "    <tr>\n",
       "      <th>0</th>\n",
       "      <td>F</td>\n",
       "      <td>2000</td>\n",
       "      <td>7.0</td>\n",
       "    </tr>\n",
       "    <tr>\n",
       "      <th>1</th>\n",
       "      <td>F</td>\n",
       "      <td>2000</td>\n",
       "      <td>7.4</td>\n",
       "    </tr>\n",
       "    <tr>\n",
       "      <th>2</th>\n",
       "      <td>F</td>\n",
       "      <td>2000</td>\n",
       "      <td>9.5</td>\n",
       "    </tr>\n",
       "    <tr>\n",
       "      <th>3</th>\n",
       "      <td>F</td>\n",
       "      <td>2100</td>\n",
       "      <td>7.2</td>\n",
       "    </tr>\n",
       "    <tr>\n",
       "      <th>4</th>\n",
       "      <td>F</td>\n",
       "      <td>2100</td>\n",
       "      <td>7.3</td>\n",
       "    </tr>\n",
       "  </tbody>\n",
       "</table>\n",
       "</div>"
      ],
      "text/plain": [
       "  Sex  BodyWeight_g  HeartWeight_g\n",
       "0   F          2000            7.0\n",
       "1   F          2000            7.4\n",
       "2   F          2000            9.5\n",
       "3   F          2100            7.2\n",
       "4   F          2100            7.3"
      ]
     },
     "execution_count": 241,
     "metadata": {},
     "output_type": "execute_result"
    }
   ],
   "source": [
    "# Drop trailing decimal place. Since we have converted units it is no longer relevant.\n",
    "#df  = df.round.BodyWeight_g()\n",
    "df['BodyWeight_g'] = df['BodyWeight_g'].apply(lambda x: round(x))\n",
    "\n",
    "df.head()"
   ]
  },
  {
   "cell_type": "markdown",
   "metadata": {},
   "source": [
    "# Data Modeling - RBF Kernel\n",
    "Since we are analyzing if a value is typical among others within the same class, we will want to use a one-class Support Vector Machine.\n",
    "\n",
    "I want to use the RBF kernel here because I assume that most data points are clustered together, with the anomalies located outside of a curved boundary.\n",
    "\n",
    "The nu paramater tells the program what percentage of data points you want to designate as anomalies. Here, I am wanting to classify 10% of data as anomalies, so nu = 0.1. Gamma tells us how much we want each observation to be influenced by the ones it is closest to. SVM documentation states that \"The larger gamma is, the closer other examples must be to be affected.\" \n",
    "\n",
    "Helpful article for explanations: https://towardsdatascience.com/support-vector-machine-svm-for-anomaly-detection-73a8d676c331\n"
   ]
  },
  {
   "cell_type": "code",
   "execution_count": 242,
   "metadata": {},
   "outputs": [],
   "source": [
    "# drop sex column from the df so the model can analyze body weight and heart weight\n",
    "df = df.drop(columns=['Sex']) # drop\n",
    "\n",
    "# one-class SVM\n",
    "model = OneClassSVM(kernel = 'rbf', gamma = 0.001, nu = 0.1).fit(df)"
   ]
  },
  {
   "cell_type": "markdown",
   "metadata": {},
   "source": [
    "SVM values lie on a scale of -1 to 1. For one-class SVMs, data that are potential outliers will be caluclated as a -1."
   ]
  },
  {
   "cell_type": "code",
   "execution_count": 243,
   "metadata": {},
   "outputs": [
    {
     "data": {
      "text/plain": [
       "array([ 1,  1,  1, -1, -1,  1,  1,  1,  1,  1,  1,  1, -1,  1,  1,  1,  1,\n",
       "       -1,  1,  1,  1,  1,  1,  1,  1,  1,  1,  1,  1, -1,  1,  1,  1,  1,\n",
       "        1,  1,  1,  1,  1,  1,  1,  1,  1,  1,  1,  1,  1,  1,  1, -1,  1,\n",
       "        1,  1,  1,  1,  1,  1,  1,  1,  1,  1,  1,  1,  1,  1,  1,  1,  1,\n",
       "        1,  1,  1,  1,  1,  1,  1,  1,  1, -1,  1,  1,  1,  1,  1,  1,  1,\n",
       "        1,  1,  1,  1,  1,  1,  1,  1,  1,  1,  1,  1,  1,  1, -1,  1,  1,\n",
       "        1,  1,  1,  1,  1, -1,  1,  1,  1,  1,  1,  1, -1,  1,  1,  1, -1,\n",
       "       -1,  1,  1,  1,  1, -1,  1,  1,  1,  1,  1,  1,  1,  1,  1,  1,  1,\n",
       "        1,  1,  1,  1, -1, -1, -1, -1], dtype=int64)"
      ]
     },
     "execution_count": 243,
     "metadata": {},
     "output_type": "execute_result"
    }
   ],
   "source": [
    "# Let SVM calculate values for each cat\n",
    "y_pred_rbf = model.predict(df)\n",
    "y_pred_rbf\n"
   ]
  },
  {
   "cell_type": "code",
   "execution_count": 244,
   "metadata": {},
   "outputs": [
    {
     "data": {
      "text/plain": [
       " 1    127\n",
       "-1     17\n",
       "Name: Predicted Values, dtype: int64"
      ]
     },
     "execution_count": 244,
     "metadata": {},
     "output_type": "execute_result"
    }
   ],
   "source": [
    "# Check to see if the 10% rule was followed \n",
    "predicted_values_df = pd.DataFrame(y_pred_rbf, columns=['Predicted Values']) \n",
    "predicted_values_df.describe()\n",
    "predicted_values_df['Predicted Values'].value_counts()"
   ]
  },
  {
   "cell_type": "markdown",
   "metadata": {},
   "source": [
    "Notice above that the 10% rule was not exactly followed, although it is close. This is influenced by the value I chose for my gamma. You can play around with the gamma values, but keep in mind that using a gamma that is too small may overfit your model."
   ]
  },
  {
   "cell_type": "markdown",
   "metadata": {},
   "source": [
    "# Visualize results\n",
    "Plotting the model's results can help to determine its validity by visualizing the predicted anomalies.  "
   ]
  },
  {
   "cell_type": "code",
   "execution_count": 245,
   "metadata": {},
   "outputs": [],
   "source": [
    "# Join cats dataset with the associated SVM predicted values into one df\n",
    "joined_df = df.join(predicted_values_df, lsuffix=\"_left\") # lsuffix joins these two dataframes by their row index\n",
    "joined_df.head()\n",
    "\n",
    "# Create column to clearly label outliers vs non-outliers\n",
    "joined_df['Anomalies'] = np.where(joined_df['Predicted Values'] == -1, \"Anomaly\", \"Non-Anomaly\")"
   ]
  },
  {
   "cell_type": "code",
   "execution_count": 248,
   "metadata": {},
   "outputs": [
    {
     "data": {
      "image/png": "[encoded data removed]",
      "text/plain": [
       "<Figure size 826.6x360 with 1 Axes>"
      ]
     },
     "metadata": {},
     "output_type": "display_data"
    }
   ],
   "source": [
    "# Plot results. Ironically, we will be using Seaborn's cat plot!\n",
    "# height and aspect parameters change the dimensions of the plot: https://www.statology.org/seaborn-figure-size/\n",
    "sns.set(style='dark') # set background color for plot\n",
    "sns.catplot(x=\"BodyWeight_g\", y=\"HeartWeight_g\", height=5, aspect=2,hue=\"Anomalies\", palette=\"Set2\",data=joined_df)\n",
    "\n",
    "\n",
    "# Change axis labels\n",
    "plt.xlabel(\"Body Weight (g)\")\n",
    "plt.ylabel(\"Heart Weight (g)\")\n",
    "plt.title(\"Heart and Body Weight of Domestic Cats\", weight='bold') # bold title\n",
    "\n",
    "# Save image\n",
    "plt.savefig(\"cats.png\")"
   ]
  }
 ],
 "metadata": {
  "kernelspec": {
   "display_name": "Python 3",
   "language": "python",
   "name": "python3"
  },
  "language_info": {
   "codemirror_mode": {
    "name": "ipython",
    "version": 3
   },
   "file_extension": ".py",
   "mimetype": "text/x-python",
   "name": "python",
   "nbconvert_exporter": "python",
   "pygments_lexer": "ipython3",
   "version": "3.8.5"
  }
 },
 "nbformat": 4,
 "nbformat_minor": 4
}
